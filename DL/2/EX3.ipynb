{
 "cells": [
  {
   "cell_type": "code",
   "execution_count": 1,
   "metadata": {},
   "outputs": [
    {
     "name": "stdout",
     "output_type": "stream",
     "text": [
      "[[6]\n",
      " [9]\n",
      " [9]\n",
      " [4]\n",
      " [1]]\n",
      "(50000, 32, 32, 3)\n"
     ]
    }
   ],
   "source": [
    "import tensorflow as tf\n",
    "import numpy as np\n",
    "import matplotlib.pyplot as plt\n",
    "import matplotlib.image as mpimg\n",
    "from tensorflow import keras\n",
    "from keras import datasets, layers, models\n",
    "\n",
    "(x_train,y_train),(x_test,y_test) = datasets.cifar10.load_data()\n",
    "x_train, x_test = x_train / 255.0, x_test / 255.0\n",
    "print(y_train[:5])\n",
    "print(x_train.shape)"
   ]
  },
  {
   "cell_type": "code",
   "execution_count": 2,
   "metadata": {},
   "outputs": [
    {
     "data": {
      "text/plain": [
       "array([6, 9, 9, ..., 9, 1, 1], dtype=uint8)"
      ]
     },
     "execution_count": 2,
     "metadata": {},
     "output_type": "execute_result"
    }
   ],
   "source": [
    "y_train=y_train.reshape(-1,)\n",
    "y_train"
   ]
  },
  {
   "cell_type": "code",
   "execution_count": 5,
   "metadata": {},
   "outputs": [
    {
     "data": {
      "image/png": "[encoded data removed]",
      "text/plain": [
       "<Figure size 1500x200 with 1 Axes>"
      ]
     },
     "metadata": {},
     "output_type": "display_data"
    }
   ],
   "source": [
    "classes = [\"airplane\",\"automobile\",\"bird\",\"cat\",\"deer\",\"dog\",\"frog\",\"horse\",\"ship\",\"truck\"]\n",
    "def plot_sample(x,y,index):\n",
    "    plt.figure(figsize=(15,2))\n",
    "    plt.imshow(x[index])\n",
    "    plt.xlabel(classes[y[index]])\n",
    "\n",
    "plot_sample(x_train,y_train,5)"
   ]
  },
  {
   "cell_type": "code",
   "execution_count": 6,
   "metadata": {},
   "outputs": [],
   "source": [
    "cnn=models.Sequential([\n",
    "    layers.Conv2D(filters=32,kernel_size=(3,3),activation='relu',input_shape=(32,32,3)),\n",
    "    layers.MaxPooling2D((2,2)),\n",
    "    layers.Conv2D(filters=64,kernel_size=(3,3),activation='relu'),\n",
    "    layers.MaxPooling2D((2,2)),\n",
    "    layers.Flatten(),\n",
    "    layers.Dense(64,activation='relu'),\n",
    "    layers.Dense(10,activation='softmax')\n",
    "])\n",
    "\n",
    "cnn.compile(optimizer='adam',\n",
    "            loss='sparse_categorical_crossentropy',\n",
    "            metrics=['accuracy'])"
   ]
  },
  {
   "cell_type": "code",
   "execution_count": 7,
   "metadata": {},
   "outputs": [
    {
     "name": "stdout",
     "output_type": "stream",
     "text": [
      "Epoch 1/10\n",
      "1563/1563 [==============================] - 92s 57ms/step - loss: 1.5105 - accuracy: 0.4564\n",
      "Epoch 2/10\n",
      "1563/1563 [==============================] - 87s 55ms/step - loss: 1.1588 - accuracy: 0.5939\n",
      "Epoch 3/10\n",
      "1563/1563 [==============================] - 86s 55ms/step - loss: 1.0255 - accuracy: 0.6400\n",
      "Epoch 4/10\n",
      "1563/1563 [==============================] - 78s 50ms/step - loss: 0.9453 - accuracy: 0.6677\n",
      "Epoch 5/10\n",
      "1563/1563 [==============================] - 89s 57ms/step - loss: 0.8775 - accuracy: 0.6931\n",
      "Epoch 6/10\n",
      "1563/1563 [==============================] - 64s 41ms/step - loss: 0.8275 - accuracy: 0.7125\n",
      "Epoch 7/10\n",
      "1563/1563 [==============================] - 63s 40ms/step - loss: 0.7812 - accuracy: 0.7296\n",
      "Epoch 8/10\n",
      "1563/1563 [==============================] - 64s 41ms/step - loss: 0.7421 - accuracy: 0.7405\n",
      "Epoch 9/10\n",
      "1563/1563 [==============================] - 63s 40ms/step - loss: 0.7097 - accuracy: 0.7525\n",
      "Epoch 10/10\n",
      "1563/1563 [==============================] - 65s 42ms/step - loss: 0.6731 - accuracy: 0.7664\n",
      "313/313 [==============================] - 6s 17ms/step - loss: 0.9160 - accuracy: 0.6928\n"
     ]
    },
    {
     "data": {
      "text/plain": [
       "[0.9159657955169678, 0.692799985408783]"
      ]
     },
     "execution_count": 7,
     "metadata": {},
     "output_type": "execute_result"
    }
   ],
   "source": [
    "cnn.fit(x_train,y_train,epochs=10)\n",
    "cnn.evaluate(x_test,y_test)"
   ]
  },
  {
   "cell_type": "code",
   "execution_count": 11,
   "metadata": {},
   "outputs": [
    {
     "name": "stdout",
     "output_type": "stream",
     "text": [
      "313/313 [==============================] - 4s 13ms/step\n",
      "classification_report: \n",
      "               precision    recall  f1-score   support\n",
      "\n",
      "           0       0.75      0.71      0.73      1000\n",
      "           1       0.81      0.81      0.81      1000\n",
      "           2       0.56      0.60      0.58      1000\n",
      "           3       0.52      0.50      0.51      1000\n",
      "           4       0.60      0.67      0.63      1000\n",
      "           5       0.62      0.61      0.62      1000\n",
      "           6       0.70      0.85      0.77      1000\n",
      "           7       0.79      0.65      0.72      1000\n",
      "           8       0.83      0.78      0.80      1000\n",
      "           9       0.80      0.75      0.78      1000\n",
      "\n",
      "    accuracy                           0.69     10000\n",
      "   macro avg       0.70      0.69      0.69     10000\n",
      "weighted avg       0.70      0.69      0.69     10000\n",
      "\n"
     ]
    }
   ],
   "source": [
    "from sklearn.metrics import confusion_matrix,classification_report\n",
    "y_pred = cnn.predict(x_test)\n",
    "y_pred_classes = [np.argmax(element) for element in y_pred]\n",
    "print(\"classification_report: \\n\",classification_report(y_test,y_pred_classes))"
   ]
  }
 ],
 "metadata": {
  "kernelspec": {
   "display_name": "Python 3",
   "language": "python",
   "name": "python3"
  },
  "language_info": {
   "codemirror_mode": {
    "name": "ipython",
    "version": 3
   },
   "file_extension": ".py",
   "mimetype": "text/x-python",
   "name": "python",
   "nbconvert_exporter": "python",
   "pygments_lexer": "ipython3",
   "version": "3.10.9"
  },
  "orig_nbformat": 4,
  "vscode": {
   "interpreter": {
    "hash": "26de051ba29f2982a8de78e945f0abaf191376122a1563185a90213a26c5da77"
   }
  }
 },
 "nbformat": 4,
 "nbformat_minor": 2
}
